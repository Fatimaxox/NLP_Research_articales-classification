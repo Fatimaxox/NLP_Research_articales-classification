{
  "cells": [
    {
      "cell_type": "code",
      "execution_count": 1,
      "metadata": {
        "id": "T0nah5aG_plk"
      },
      "outputs": [],
      "source": [
        "#we remove symbols and punctuation, tokenize the text into words, and eliminate common stop words."
      ]
    },
    {
      "cell_type": "code",
      "execution_count": 2,
      "metadata": {
        "id": "RtF8m2KjekSp"
      },
      "outputs": [],
      "source": [
        "# Import necessary libraries\n",
        "import numpy as np\n",
        "import pandas as pd\n",
        "import seaborn as sns\n",
        "import matplotlib.pyplot as plt\n",
        "from sklearn.multioutput import MultiOutputClassifier\n",
        "from sklearn.ensemble import RandomForestClassifier\n",
        "from sklearn.linear_model import LogisticRegression\n",
        "from sklearn.naive_bayes import MultinomialNB\n",
        "from sklearn.model_selection import GridSearchCV\n",
        "from sklearn.metrics import accuracy_score\n",
        "from sklearn.metrics import classification_report"
      ]
    },
    {
      "cell_type": "code",
      "execution_count": 3,
      "metadata": {
        "id": "myLTKp6H3pff"
      },
      "outputs": [],
      "source": [
        "# Load the training data\n",
        "my_data = pd.read_csv(\"train.csv\" ,encoding=\"utf-8\")"
      ]
    },
    {
      "cell_type": "code",
      "execution_count": 4,
      "metadata": {
        "colab": {
          "base_uri": "https://localhost:8080/",
          "height": 345
        },
        "id": "QZZdaiJU7aM1",
        "outputId": "8ae87a59-2dab-430e-fe7e-ddcfc20d1960"
      },
      "outputs": [
        {
          "data": {
            "text/html": [
              "<div>\n",
              "<style scoped>\n",
              "    .dataframe tbody tr th:only-of-type {\n",
              "        vertical-align: middle;\n",
              "    }\n",
              "\n",
              "    .dataframe tbody tr th {\n",
              "        vertical-align: top;\n",
              "    }\n",
              "\n",
              "    .dataframe thead th {\n",
              "        text-align: right;\n",
              "    }\n",
              "</style>\n",
              "<table border=\"1\" class=\"dataframe\">\n",
              "  <thead>\n",
              "    <tr style=\"text-align: right;\">\n",
              "      <th></th>\n",
              "      <th>ID</th>\n",
              "      <th>TITLE</th>\n",
              "      <th>ABSTRACT</th>\n",
              "      <th>Computer Science</th>\n",
              "      <th>Physics</th>\n",
              "      <th>Mathematics</th>\n",
              "      <th>Statistics</th>\n",
              "      <th>Quantitative Biology</th>\n",
              "      <th>Quantitative Finance</th>\n",
              "    </tr>\n",
              "  </thead>\n",
              "  <tbody>\n",
              "    <tr>\n",
              "      <th>0</th>\n",
              "      <td>1</td>\n",
              "      <td>Reconstructing Subject-Specific Effect Maps</td>\n",
              "      <td>Predictive models allow subject-specific inf...</td>\n",
              "      <td>1</td>\n",
              "      <td>0</td>\n",
              "      <td>0</td>\n",
              "      <td>0</td>\n",
              "      <td>0</td>\n",
              "      <td>0</td>\n",
              "    </tr>\n",
              "    <tr>\n",
              "      <th>1</th>\n",
              "      <td>2</td>\n",
              "      <td>Rotation Invariance Neural Network</td>\n",
              "      <td>Rotation invariance and translation invarian...</td>\n",
              "      <td>1</td>\n",
              "      <td>0</td>\n",
              "      <td>0</td>\n",
              "      <td>0</td>\n",
              "      <td>0</td>\n",
              "      <td>0</td>\n",
              "    </tr>\n",
              "    <tr>\n",
              "      <th>2</th>\n",
              "      <td>3</td>\n",
              "      <td>Spherical polyharmonics and Poisson kernels fo...</td>\n",
              "      <td>We introduce and develop the notion of spher...</td>\n",
              "      <td>0</td>\n",
              "      <td>0</td>\n",
              "      <td>1</td>\n",
              "      <td>0</td>\n",
              "      <td>0</td>\n",
              "      <td>0</td>\n",
              "    </tr>\n",
              "    <tr>\n",
              "      <th>3</th>\n",
              "      <td>4</td>\n",
              "      <td>A finite element approximation for the stochas...</td>\n",
              "      <td>The stochastic Landau--Lifshitz--Gilbert (LL...</td>\n",
              "      <td>0</td>\n",
              "      <td>0</td>\n",
              "      <td>1</td>\n",
              "      <td>0</td>\n",
              "      <td>0</td>\n",
              "      <td>0</td>\n",
              "    </tr>\n",
              "    <tr>\n",
              "      <th>4</th>\n",
              "      <td>5</td>\n",
              "      <td>Comparative study of Discrete Wavelet Transfor...</td>\n",
              "      <td>Fourier-transform infra-red (FTIR) spectra o...</td>\n",
              "      <td>1</td>\n",
              "      <td>0</td>\n",
              "      <td>0</td>\n",
              "      <td>1</td>\n",
              "      <td>0</td>\n",
              "      <td>0</td>\n",
              "    </tr>\n",
              "  </tbody>\n",
              "</table>\n",
              "</div>"
            ],
            "text/plain": [
              "   ID                                              TITLE   \n",
              "0   1        Reconstructing Subject-Specific Effect Maps  \\\n",
              "1   2                 Rotation Invariance Neural Network   \n",
              "2   3  Spherical polyharmonics and Poisson kernels fo...   \n",
              "3   4  A finite element approximation for the stochas...   \n",
              "4   5  Comparative study of Discrete Wavelet Transfor...   \n",
              "\n",
              "                                            ABSTRACT  Computer Science   \n",
              "0    Predictive models allow subject-specific inf...                 1  \\\n",
              "1    Rotation invariance and translation invarian...                 1   \n",
              "2    We introduce and develop the notion of spher...                 0   \n",
              "3    The stochastic Landau--Lifshitz--Gilbert (LL...                 0   \n",
              "4    Fourier-transform infra-red (FTIR) spectra o...                 1   \n",
              "\n",
              "   Physics  Mathematics  Statistics  Quantitative Biology   \n",
              "0        0            0           0                     0  \\\n",
              "1        0            0           0                     0   \n",
              "2        0            1           0                     0   \n",
              "3        0            1           0                     0   \n",
              "4        0            0           1                     0   \n",
              "\n",
              "   Quantitative Finance  \n",
              "0                     0  \n",
              "1                     0  \n",
              "2                     0  \n",
              "3                     0  \n",
              "4                     0  "
            ]
          },
          "execution_count": 4,
          "metadata": {},
          "output_type": "execute_result"
        }
      ],
      "source": [
        "my_data.head()"
      ]
    },
    {
      "attachments": {},
      "cell_type": "markdown",
      "metadata": {
        "id": "3HZUrjKm2FHU"
      },
      "source": [
        "### some EDA"
      ]
    },
    {
      "cell_type": "code",
      "execution_count": 5,
      "metadata": {
        "colab": {
          "base_uri": "https://localhost:8080/"
        },
        "id": "qPcujf__2FHZ",
        "outputId": "9d0459e0-03d4-4870-93ca-3873b4099f77"
      },
      "outputs": [
        {
          "data": {
            "text/plain": [
              "(20972, 9)"
            ]
          },
          "execution_count": 5,
          "metadata": {},
          "output_type": "execute_result"
        }
      ],
      "source": [
        "my_data.shape"
      ]
    },
    {
      "cell_type": "code",
      "execution_count": 6,
      "metadata": {
        "colab": {
          "base_uri": "https://localhost:8080/"
        },
        "id": "gTXVBjRF2FHb",
        "outputId": "e00f57ed-d496-4efa-fed4-bebeae0aa382"
      },
      "outputs": [
        {
          "name": "stdout",
          "output_type": "stream",
          "text": [
            "<class 'pandas.core.frame.DataFrame'>\n",
            "RangeIndex: 20972 entries, 0 to 20971\n",
            "Data columns (total 9 columns):\n",
            " #   Column                Non-Null Count  Dtype \n",
            "---  ------                --------------  ----- \n",
            " 0   ID                    20972 non-null  int64 \n",
            " 1   TITLE                 20972 non-null  object\n",
            " 2   ABSTRACT              20972 non-null  object\n",
            " 3   Computer Science      20972 non-null  int64 \n",
            " 4   Physics               20972 non-null  int64 \n",
            " 5   Mathematics           20972 non-null  int64 \n",
            " 6   Statistics            20972 non-null  int64 \n",
            " 7   Quantitative Biology  20972 non-null  int64 \n",
            " 8   Quantitative Finance  20972 non-null  int64 \n",
            "dtypes: int64(7), object(2)\n",
            "memory usage: 1.4+ MB\n"
          ]
        }
      ],
      "source": [
        "my_data.info() # all float except the \"species\" - obj."
      ]
    },
    {
      "cell_type": "code",
      "execution_count": 7,
      "metadata": {
        "colab": {
          "base_uri": "https://localhost:8080/"
        },
        "id": "ys3ek7mP2FHd",
        "outputId": "9114433c-50a8-4881-ea0d-5310155d766d"
      },
      "outputs": [
        {
          "data": {
            "text/plain": [
              "Index(['Computer Science', 'Physics', 'Mathematics', 'Statistics',\n",
              "       'Quantitative Biology', 'Quantitative Finance'],\n",
              "      dtype='object')"
            ]
          },
          "execution_count": 7,
          "metadata": {},
          "output_type": "execute_result"
        }
      ],
      "source": [
        "my_data.columns[3:]"
      ]
    },
    {
      "cell_type": "code",
      "execution_count": 8,
      "metadata": {
        "colab": {
          "base_uri": "https://localhost:8080/",
          "height": 1000
        },
        "id": "8F8hy0Gg2FHi",
        "outputId": "767ced45-bc39-4405-92b0-59d418bf432f"
      },
      "outputs": [
        {
          "name": "stdout",
          "output_type": "stream",
          "text": [
            "Computer Science\n",
            "0    12378\n",
            "1     8594\n",
            "Name: count, dtype: int64\n",
            "Physics\n",
            "0    14959\n",
            "1     6013\n",
            "Name: count, dtype: int64\n",
            "Mathematics\n",
            "0    15354\n",
            "1     5618\n",
            "Name: count, dtype: int64\n",
            "Statistics\n",
            "0    15766\n",
            "1     5206\n",
            "Name: count, dtype: int64\n",
            "Quantitative Biology\n",
            "0    20385\n",
            "1      587\n",
            "Name: count, dtype: int64\n",
            "Quantitative Finance\n",
            "0    20723\n",
            "1      249\n",
            "Name: count, dtype: int64\n"
          ]
        },
        {
          "data": {
            "image/png": "[encoded data removed]",
            "text/plain": [
              "<Figure size 800x600 with 1 Axes>"
            ]
          },
          "metadata": {},
          "output_type": "display_data"
        },
        {
          "data": {
            "image/png": "[encoded data removed]",
            "text/plain": [
              "<Figure size 800x600 with 1 Axes>"
            ]
          },
          "metadata": {},
          "output_type": "display_data"
        },
        {
          "data": {
            "image/png": "[encoded data removed]",
            "text/plain": [
              "<Figure size 800x600 with 1 Axes>"
            ]
          },
          "metadata": {},
          "output_type": "display_data"
        },
        {
          "data": {
            "image/png": "[encoded data removed]",
            "text/plain": [
              "<Figure size 800x600 with 1 Axes>"
            ]
          },
          "metadata": {},
          "output_type": "display_data"
        },
        {
          "data": {
            "image/png": "[encoded data removed]",
            "text/plain": [
              "<Figure size 800x600 with 1 Axes>"
            ]
          },
          "metadata": {},
          "output_type": "display_data"
        },
        {
          "data": {
            "image/png": "[encoded data removed]",
            "text/plain": [
              "<Figure size 800x600 with 1 Axes>"
            ]
          },
          "metadata": {},
          "output_type": "display_data"
        }
      ],
      "source": [
        "for i in my_data.columns[3:]:\n",
        "    target_temp = my_data[i].value_counts()\n",
        "    print(target_temp)\n",
        "\n",
        "\n",
        "# Plot histograms for each relevant column\n",
        "for column in my_data.columns[3:]:\n",
        "    plt.figure(figsize=(8, 6))\n",
        "    my_data[column].value_counts().sort_index().plot(kind='bar', color='#0504aa', alpha=0.7)\n",
        "    plt.title(f'Bar Plot for {column}')\n",
        "    plt.xlabel(column)\n",
        "    plt.ylabel('Count')\n",
        "    plt.grid(axis='y', linestyle='--', alpha=0.7)\n",
        "    plt.show()"
      ]
    },
    {
      "cell_type": "code",
      "execution_count": 9,
      "metadata": {
        "id": "qAKJcSmR2FHk"
      },
      "outputs": [],
      "source": [
        "# List of columns to consider\n",
        "columns_to_merge = ['Quantitative Biology', 'Quantitative Finance']\n",
        "my_data['other'] = my_data.apply(lambda row: 1 if any(row[column] == 1 for column in columns_to_merge) else 0, axis=1)"
      ]
    },
    {
      "cell_type": "code",
      "execution_count": 10,
      "metadata": {
        "colab": {
          "base_uri": "https://localhost:8080/",
          "height": 805
        },
        "id": "PFzB8cmS2FHm",
        "outputId": "b6689144-3c66-472e-c5b8-03aa331b0310"
      },
      "outputs": [
        {
          "data": {
            "text/html": [
              "<div>\n",
              "<style scoped>\n",
              "    .dataframe tbody tr th:only-of-type {\n",
              "        vertical-align: middle;\n",
              "    }\n",
              "\n",
              "    .dataframe tbody tr th {\n",
              "        vertical-align: top;\n",
              "    }\n",
              "\n",
              "    .dataframe thead th {\n",
              "        text-align: right;\n",
              "    }\n",
              "</style>\n",
              "<table border=\"1\" class=\"dataframe\">\n",
              "  <thead>\n",
              "    <tr style=\"text-align: right;\">\n",
              "      <th></th>\n",
              "      <th>ID</th>\n",
              "      <th>TITLE</th>\n",
              "      <th>ABSTRACT</th>\n",
              "      <th>Computer Science</th>\n",
              "      <th>Physics</th>\n",
              "      <th>Mathematics</th>\n",
              "      <th>Statistics</th>\n",
              "      <th>Quantitative Biology</th>\n",
              "      <th>Quantitative Finance</th>\n",
              "      <th>other</th>\n",
              "    </tr>\n",
              "  </thead>\n",
              "  <tbody>\n",
              "    <tr>\n",
              "      <th>0</th>\n",
              "      <td>1</td>\n",
              "      <td>Reconstructing Subject-Specific Effect Maps</td>\n",
              "      <td>Predictive models allow subject-specific inf...</td>\n",
              "      <td>1</td>\n",
              "      <td>0</td>\n",
              "      <td>0</td>\n",
              "      <td>0</td>\n",
              "      <td>0</td>\n",
              "      <td>0</td>\n",
              "      <td>0</td>\n",
              "    </tr>\n",
              "    <tr>\n",
              "      <th>1</th>\n",
              "      <td>2</td>\n",
              "      <td>Rotation Invariance Neural Network</td>\n",
              "      <td>Rotation invariance and translation invarian...</td>\n",
              "      <td>1</td>\n",
              "      <td>0</td>\n",
              "      <td>0</td>\n",
              "      <td>0</td>\n",
              "      <td>0</td>\n",
              "      <td>0</td>\n",
              "      <td>0</td>\n",
              "    </tr>\n",
              "    <tr>\n",
              "      <th>2</th>\n",
              "      <td>3</td>\n",
              "      <td>Spherical polyharmonics and Poisson kernels fo...</td>\n",
              "      <td>We introduce and develop the notion of spher...</td>\n",
              "      <td>0</td>\n",
              "      <td>0</td>\n",
              "      <td>1</td>\n",
              "      <td>0</td>\n",
              "      <td>0</td>\n",
              "      <td>0</td>\n",
              "      <td>0</td>\n",
              "    </tr>\n",
              "    <tr>\n",
              "      <th>3</th>\n",
              "      <td>4</td>\n",
              "      <td>A finite element approximation for the stochas...</td>\n",
              "      <td>The stochastic Landau--Lifshitz--Gilbert (LL...</td>\n",
              "      <td>0</td>\n",
              "      <td>0</td>\n",
              "      <td>1</td>\n",
              "      <td>0</td>\n",
              "      <td>0</td>\n",
              "      <td>0</td>\n",
              "      <td>0</td>\n",
              "    </tr>\n",
              "    <tr>\n",
              "      <th>4</th>\n",
              "      <td>5</td>\n",
              "      <td>Comparative study of Discrete Wavelet Transfor...</td>\n",
              "      <td>Fourier-transform infra-red (FTIR) spectra o...</td>\n",
              "      <td>1</td>\n",
              "      <td>0</td>\n",
              "      <td>0</td>\n",
              "      <td>1</td>\n",
              "      <td>0</td>\n",
              "      <td>0</td>\n",
              "      <td>0</td>\n",
              "    </tr>\n",
              "    <tr>\n",
              "      <th>...</th>\n",
              "      <td>...</td>\n",
              "      <td>...</td>\n",
              "      <td>...</td>\n",
              "      <td>...</td>\n",
              "      <td>...</td>\n",
              "      <td>...</td>\n",
              "      <td>...</td>\n",
              "      <td>...</td>\n",
              "      <td>...</td>\n",
              "      <td>...</td>\n",
              "    </tr>\n",
              "    <tr>\n",
              "      <th>20967</th>\n",
              "      <td>20968</td>\n",
              "      <td>Contemporary machine learning: a guide for pra...</td>\n",
              "      <td>Machine learning is finding increasingly bro...</td>\n",
              "      <td>1</td>\n",
              "      <td>1</td>\n",
              "      <td>0</td>\n",
              "      <td>0</td>\n",
              "      <td>0</td>\n",
              "      <td>0</td>\n",
              "      <td>0</td>\n",
              "    </tr>\n",
              "    <tr>\n",
              "      <th>20968</th>\n",
              "      <td>20969</td>\n",
              "      <td>Uniform diamond coatings on WC-Co hard alloy c...</td>\n",
              "      <td>Polycrystalline diamond coatings have been g...</td>\n",
              "      <td>0</td>\n",
              "      <td>1</td>\n",
              "      <td>0</td>\n",
              "      <td>0</td>\n",
              "      <td>0</td>\n",
              "      <td>0</td>\n",
              "      <td>0</td>\n",
              "    </tr>\n",
              "    <tr>\n",
              "      <th>20969</th>\n",
              "      <td>20970</td>\n",
              "      <td>Analysing Soccer Games with Clustering and Con...</td>\n",
              "      <td>We present a new approach for identifying si...</td>\n",
              "      <td>1</td>\n",
              "      <td>0</td>\n",
              "      <td>0</td>\n",
              "      <td>0</td>\n",
              "      <td>0</td>\n",
              "      <td>0</td>\n",
              "      <td>0</td>\n",
              "    </tr>\n",
              "    <tr>\n",
              "      <th>20970</th>\n",
              "      <td>20971</td>\n",
              "      <td>On the Efficient Simulation of the Left-Tail o...</td>\n",
              "      <td>The sum of Log-normal variates is encountere...</td>\n",
              "      <td>0</td>\n",
              "      <td>0</td>\n",
              "      <td>1</td>\n",
              "      <td>1</td>\n",
              "      <td>0</td>\n",
              "      <td>0</td>\n",
              "      <td>0</td>\n",
              "    </tr>\n",
              "    <tr>\n",
              "      <th>20971</th>\n",
              "      <td>20972</td>\n",
              "      <td>Why optional stopping is a problem for Bayesians</td>\n",
              "      <td>Recently, optional stopping has been a subje...</td>\n",
              "      <td>0</td>\n",
              "      <td>0</td>\n",
              "      <td>1</td>\n",
              "      <td>1</td>\n",
              "      <td>0</td>\n",
              "      <td>0</td>\n",
              "      <td>0</td>\n",
              "    </tr>\n",
              "  </tbody>\n",
              "</table>\n",
              "<p>20972 rows × 10 columns</p>\n",
              "</div>"
            ],
            "text/plain": [
              "          ID                                              TITLE   \n",
              "0          1        Reconstructing Subject-Specific Effect Maps  \\\n",
              "1          2                 Rotation Invariance Neural Network   \n",
              "2          3  Spherical polyharmonics and Poisson kernels fo...   \n",
              "3          4  A finite element approximation for the stochas...   \n",
              "4          5  Comparative study of Discrete Wavelet Transfor...   \n",
              "...      ...                                                ...   \n",
              "20967  20968  Contemporary machine learning: a guide for pra...   \n",
              "20968  20969  Uniform diamond coatings on WC-Co hard alloy c...   \n",
              "20969  20970  Analysing Soccer Games with Clustering and Con...   \n",
              "20970  20971  On the Efficient Simulation of the Left-Tail o...   \n",
              "20971  20972   Why optional stopping is a problem for Bayesians   \n",
              "\n",
              "                                                ABSTRACT  Computer Science   \n",
              "0        Predictive models allow subject-specific inf...                 1  \\\n",
              "1        Rotation invariance and translation invarian...                 1   \n",
              "2        We introduce and develop the notion of spher...                 0   \n",
              "3        The stochastic Landau--Lifshitz--Gilbert (LL...                 0   \n",
              "4        Fourier-transform infra-red (FTIR) spectra o...                 1   \n",
              "...                                                  ...               ...   \n",
              "20967    Machine learning is finding increasingly bro...                 1   \n",
              "20968    Polycrystalline diamond coatings have been g...                 0   \n",
              "20969    We present a new approach for identifying si...                 1   \n",
              "20970    The sum of Log-normal variates is encountere...                 0   \n",
              "20971    Recently, optional stopping has been a subje...                 0   \n",
              "\n",
              "       Physics  Mathematics  Statistics  Quantitative Biology   \n",
              "0            0            0           0                     0  \\\n",
              "1            0            0           0                     0   \n",
              "2            0            1           0                     0   \n",
              "3            0            1           0                     0   \n",
              "4            0            0           1                     0   \n",
              "...        ...          ...         ...                   ...   \n",
              "20967        1            0           0                     0   \n",
              "20968        1            0           0                     0   \n",
              "20969        0            0           0                     0   \n",
              "20970        0            1           1                     0   \n",
              "20971        0            1           1                     0   \n",
              "\n",
              "       Quantitative Finance  other  \n",
              "0                         0      0  \n",
              "1                         0      0  \n",
              "2                         0      0  \n",
              "3                         0      0  \n",
              "4                         0      0  \n",
              "...                     ...    ...  \n",
              "20967                     0      0  \n",
              "20968                     0      0  \n",
              "20969                     0      0  \n",
              "20970                     0      0  \n",
              "20971                     0      0  \n",
              "\n",
              "[20972 rows x 10 columns]"
            ]
          },
          "execution_count": 10,
          "metadata": {},
          "output_type": "execute_result"
        }
      ],
      "source": [
        "my_data"
      ]
    },
    {
      "cell_type": "code",
      "execution_count": 11,
      "metadata": {
        "id": "Cw9heNB02FHn"
      },
      "outputs": [],
      "source": [
        "my_data.drop('Quantitative Biology',  axis=1, inplace=True)"
      ]
    },
    {
      "cell_type": "code",
      "execution_count": 12,
      "metadata": {
        "id": "jfnSQ2Y92FHo"
      },
      "outputs": [],
      "source": [
        "my_data.drop('Quantitative Finance', axis=1, inplace=True)"
      ]
    },
    {
      "cell_type": "code",
      "execution_count": 13,
      "metadata": {
        "id": "hutdXTf4Arw5"
      },
      "outputs": [],
      "source": [
        "# Combine all textual data into a single column\n",
        "my_data['total_text'] = my_data['TITLE'] + my_data['ABSTRACT']"
      ]
    },
    {
      "cell_type": "code",
      "execution_count": 14,
      "metadata": {
        "colab": {
          "base_uri": "https://localhost:8080/",
          "height": 359
        },
        "id": "aozgKToCAzwI",
        "outputId": "c94eddeb-4e92-41f7-86e2-dee284b401ab"
      },
      "outputs": [
        {
          "data": {
            "text/html": [
              "<div>\n",
              "<style scoped>\n",
              "    .dataframe tbody tr th:only-of-type {\n",
              "        vertical-align: middle;\n",
              "    }\n",
              "\n",
              "    .dataframe tbody tr th {\n",
              "        vertical-align: top;\n",
              "    }\n",
              "\n",
              "    .dataframe thead th {\n",
              "        text-align: right;\n",
              "    }\n",
              "</style>\n",
              "<table border=\"1\" class=\"dataframe\">\n",
              "  <thead>\n",
              "    <tr style=\"text-align: right;\">\n",
              "      <th></th>\n",
              "      <th>TITLE</th>\n",
              "      <th>ABSTRACT</th>\n",
              "      <th>Computer Science</th>\n",
              "      <th>Physics</th>\n",
              "      <th>Mathematics</th>\n",
              "      <th>Statistics</th>\n",
              "      <th>other</th>\n",
              "      <th>total_text</th>\n",
              "    </tr>\n",
              "    <tr>\n",
              "      <th>ID</th>\n",
              "      <th></th>\n",
              "      <th></th>\n",
              "      <th></th>\n",
              "      <th></th>\n",
              "      <th></th>\n",
              "      <th></th>\n",
              "      <th></th>\n",
              "      <th></th>\n",
              "    </tr>\n",
              "  </thead>\n",
              "  <tbody>\n",
              "    <tr>\n",
              "      <th>1</th>\n",
              "      <td>Reconstructing Subject-Specific Effect Maps</td>\n",
              "      <td>Predictive models allow subject-specific inf...</td>\n",
              "      <td>1</td>\n",
              "      <td>0</td>\n",
              "      <td>0</td>\n",
              "      <td>0</td>\n",
              "      <td>0</td>\n",
              "      <td>Reconstructing Subject-Specific Effect Maps  P...</td>\n",
              "    </tr>\n",
              "    <tr>\n",
              "      <th>2</th>\n",
              "      <td>Rotation Invariance Neural Network</td>\n",
              "      <td>Rotation invariance and translation invarian...</td>\n",
              "      <td>1</td>\n",
              "      <td>0</td>\n",
              "      <td>0</td>\n",
              "      <td>0</td>\n",
              "      <td>0</td>\n",
              "      <td>Rotation Invariance Neural Network  Rotation i...</td>\n",
              "    </tr>\n",
              "    <tr>\n",
              "      <th>3</th>\n",
              "      <td>Spherical polyharmonics and Poisson kernels fo...</td>\n",
              "      <td>We introduce and develop the notion of spher...</td>\n",
              "      <td>0</td>\n",
              "      <td>0</td>\n",
              "      <td>1</td>\n",
              "      <td>0</td>\n",
              "      <td>0</td>\n",
              "      <td>Spherical polyharmonics and Poisson kernels fo...</td>\n",
              "    </tr>\n",
              "    <tr>\n",
              "      <th>4</th>\n",
              "      <td>A finite element approximation for the stochas...</td>\n",
              "      <td>The stochastic Landau--Lifshitz--Gilbert (LL...</td>\n",
              "      <td>0</td>\n",
              "      <td>0</td>\n",
              "      <td>1</td>\n",
              "      <td>0</td>\n",
              "      <td>0</td>\n",
              "      <td>A finite element approximation for the stochas...</td>\n",
              "    </tr>\n",
              "    <tr>\n",
              "      <th>5</th>\n",
              "      <td>Comparative study of Discrete Wavelet Transfor...</td>\n",
              "      <td>Fourier-transform infra-red (FTIR) spectra o...</td>\n",
              "      <td>1</td>\n",
              "      <td>0</td>\n",
              "      <td>0</td>\n",
              "      <td>1</td>\n",
              "      <td>0</td>\n",
              "      <td>Comparative study of Discrete Wavelet Transfor...</td>\n",
              "    </tr>\n",
              "  </tbody>\n",
              "</table>\n",
              "</div>"
            ],
            "text/plain": [
              "                                                TITLE   \n",
              "ID                                                      \n",
              "1         Reconstructing Subject-Specific Effect Maps  \\\n",
              "2                  Rotation Invariance Neural Network   \n",
              "3   Spherical polyharmonics and Poisson kernels fo...   \n",
              "4   A finite element approximation for the stochas...   \n",
              "5   Comparative study of Discrete Wavelet Transfor...   \n",
              "\n",
              "                                             ABSTRACT  Computer Science   \n",
              "ID                                                                        \n",
              "1     Predictive models allow subject-specific inf...                 1  \\\n",
              "2     Rotation invariance and translation invarian...                 1   \n",
              "3     We introduce and develop the notion of spher...                 0   \n",
              "4     The stochastic Landau--Lifshitz--Gilbert (LL...                 0   \n",
              "5     Fourier-transform infra-red (FTIR) spectra o...                 1   \n",
              "\n",
              "    Physics  Mathematics  Statistics  other   \n",
              "ID                                            \n",
              "1         0            0           0      0  \\\n",
              "2         0            0           0      0   \n",
              "3         0            1           0      0   \n",
              "4         0            1           0      0   \n",
              "5         0            0           1      0   \n",
              "\n",
              "                                           total_text  \n",
              "ID                                                     \n",
              "1   Reconstructing Subject-Specific Effect Maps  P...  \n",
              "2   Rotation Invariance Neural Network  Rotation i...  \n",
              "3   Spherical polyharmonics and Poisson kernels fo...  \n",
              "4   A finite element approximation for the stochas...  \n",
              "5   Comparative study of Discrete Wavelet Transfor...  "
            ]
          },
          "execution_count": 14,
          "metadata": {},
          "output_type": "execute_result"
        }
      ],
      "source": [
        "my_data.set_index('ID', inplace = True)\n",
        "my_data.head()"
      ]
    },
    {
      "cell_type": "code",
      "execution_count": 15,
      "metadata": {
        "id": "2ifCbdIDA64b"
      },
      "outputs": [],
      "source": [
        "my_data = my_data[['total_text', 'Computer Science', 'Physics', 'Mathematics', 'Statistics','other']]"
      ]
    },
    {
      "cell_type": "code",
      "execution_count": 16,
      "metadata": {
        "colab": {
          "base_uri": "https://localhost:8080/"
        },
        "id": "30S3kDAmBwXr",
        "outputId": "04ec570c-f032-411d-cedd-0206fd9cacc0"
      },
      "outputs": [
        {
          "name": "stderr",
          "output_type": "stream",
          "text": [
            "[nltk_data] Downloading package stopwords to\n",
            "[nltk_data]     C:\\Users\\fatem\\AppData\\Roaming\\nltk_data...\n",
            "[nltk_data]   Package stopwords is already up-to-date!\n"
          ]
        }
      ],
      "source": [
        "# Clean the textual column\n",
        "import nltk\n",
        "from nltk.corpus import stopwords\n",
        "from nltk.tokenize import word_tokenize\n",
        "from nltk.stem import WordNetLemmatizer\n",
        "\n",
        "nltk.download('stopwords')\n",
        "stop = stopwords.words('english')\n",
        "\n",
        "def word_lemmatizer(text):\n",
        "    lem_text = [WordNetLemmatizer().lemmatize(i) for i in text]\n",
        "    return lem_text"
      ]
    },
    {
      "cell_type": "code",
      "execution_count": 17,
      "metadata": {
        "id": "_O1U68LyDWH7"
      },
      "outputs": [],
      "source": [
        "#performing the following steps: converting to lower case ,removing special charachters ,numbers,and stopwords.\n",
        "#perfoming tokanization, lemmetization, then Rejoining Tokens:\n",
        "import re\n",
        "\n",
        "def  clean_text(df, text_field, new_text_field_name):\n",
        "    df[new_text_field_name] = df[text_field].str.lower()\n",
        "    df[new_text_field_name] = df[new_text_field_name].apply(lambda elem: re.sub(r\"(@[A-Za-z0-9]+)|([^0-9A-Za-z \\t])|(\\w+:\\/\\/\\S+)|^rt|http.+?\", \"\", elem))\n",
        "    df[new_text_field_name] = df[new_text_field_name].apply(lambda elem: re.sub(r\"\\d+\", \"\", elem))\n",
        "    df[new_text_field_name] = df[new_text_field_name].apply(lambda x: ' '.join([word for word in x.split() if word not in (stop)]))\n",
        "    df[new_text_field_name] = df[new_text_field_name].apply(lambda x: word_tokenize(x))\n",
        "    df[new_text_field_name] = df[new_text_field_name].apply(lambda x: word_lemmatizer(x))\n",
        "    df[new_text_field_name] = df[new_text_field_name].apply(lambda x: ' '.join(x))\n",
        "    return df"
      ]
    },
    {
      "cell_type": "code",
      "execution_count": 18,
      "metadata": {
        "colab": {
          "base_uri": "https://localhost:8080/"
        },
        "id": "KNe2RgwnFM9v",
        "outputId": "77fc2d62-b5e9-4fab-85da-1d7b6e1e93fb"
      },
      "outputs": [
        {
          "name": "stderr",
          "output_type": "stream",
          "text": [
            "[nltk_data] Downloading package punkt to\n",
            "[nltk_data]     C:\\Users\\fatem\\AppData\\Roaming\\nltk_data...\n",
            "[nltk_data]   Package punkt is already up-to-date!\n",
            "[nltk_data] Downloading package wordnet to\n",
            "[nltk_data]     C:\\Users\\fatem\\AppData\\Roaming\\nltk_data...\n",
            "[nltk_data]   Package wordnet is already up-to-date!\n",
            "C:\\Users\\fatem\\AppData\\Local\\Temp\\ipykernel_2076\\724422327.py:6: SettingWithCopyWarning: \n",
            "A value is trying to be set on a copy of a slice from a DataFrame.\n",
            "Try using .loc[row_indexer,col_indexer] = value instead\n",
            "\n",
            "See the caveats in the documentation: https://pandas.pydata.org/pandas-docs/stable/user_guide/indexing.html#returning-a-view-versus-a-copy\n",
            "  df[new_text_field_name] = df[text_field].str.lower()\n",
            "C:\\Users\\fatem\\AppData\\Local\\Temp\\ipykernel_2076\\724422327.py:7: SettingWithCopyWarning: \n",
            "A value is trying to be set on a copy of a slice from a DataFrame.\n",
            "Try using .loc[row_indexer,col_indexer] = value instead\n",
            "\n",
            "See the caveats in the documentation: https://pandas.pydata.org/pandas-docs/stable/user_guide/indexing.html#returning-a-view-versus-a-copy\n",
            "  df[new_text_field_name] = df[new_text_field_name].apply(lambda elem: re.sub(r\"(@[A-Za-z0-9]+)|([^0-9A-Za-z \\t])|(\\w+:\\/\\/\\S+)|^rt|http.+?\", \"\", elem))\n",
            "C:\\Users\\fatem\\AppData\\Local\\Temp\\ipykernel_2076\\724422327.py:8: SettingWithCopyWarning: \n",
            "A value is trying to be set on a copy of a slice from a DataFrame.\n",
            "Try using .loc[row_indexer,col_indexer] = value instead\n",
            "\n",
            "See the caveats in the documentation: https://pandas.pydata.org/pandas-docs/stable/user_guide/indexing.html#returning-a-view-versus-a-copy\n",
            "  df[new_text_field_name] = df[new_text_field_name].apply(lambda elem: re.sub(r\"\\d+\", \"\", elem))\n",
            "C:\\Users\\fatem\\AppData\\Local\\Temp\\ipykernel_2076\\724422327.py:9: SettingWithCopyWarning: \n",
            "A value is trying to be set on a copy of a slice from a DataFrame.\n",
            "Try using .loc[row_indexer,col_indexer] = value instead\n",
            "\n",
            "See the caveats in the documentation: https://pandas.pydata.org/pandas-docs/stable/user_guide/indexing.html#returning-a-view-versus-a-copy\n",
            "  df[new_text_field_name] = df[new_text_field_name].apply(lambda x: ' '.join([word for word in x.split() if word not in (stop)]))\n",
            "C:\\Users\\fatem\\AppData\\Local\\Temp\\ipykernel_2076\\724422327.py:10: SettingWithCopyWarning: \n",
            "A value is trying to be set on a copy of a slice from a DataFrame.\n",
            "Try using .loc[row_indexer,col_indexer] = value instead\n",
            "\n",
            "See the caveats in the documentation: https://pandas.pydata.org/pandas-docs/stable/user_guide/indexing.html#returning-a-view-versus-a-copy\n",
            "  df[new_text_field_name] = df[new_text_field_name].apply(lambda x: word_tokenize(x))\n",
            "C:\\Users\\fatem\\AppData\\Local\\Temp\\ipykernel_2076\\724422327.py:11: SettingWithCopyWarning: \n",
            "A value is trying to be set on a copy of a slice from a DataFrame.\n",
            "Try using .loc[row_indexer,col_indexer] = value instead\n",
            "\n",
            "See the caveats in the documentation: https://pandas.pydata.org/pandas-docs/stable/user_guide/indexing.html#returning-a-view-versus-a-copy\n",
            "  df[new_text_field_name] = df[new_text_field_name].apply(lambda x: word_lemmatizer(x))\n",
            "C:\\Users\\fatem\\AppData\\Local\\Temp\\ipykernel_2076\\724422327.py:12: SettingWithCopyWarning: \n",
            "A value is trying to be set on a copy of a slice from a DataFrame.\n",
            "Try using .loc[row_indexer,col_indexer] = value instead\n",
            "\n",
            "See the caveats in the documentation: https://pandas.pydata.org/pandas-docs/stable/user_guide/indexing.html#returning-a-view-versus-a-copy\n",
            "  df[new_text_field_name] = df[new_text_field_name].apply(lambda x: ' '.join(x))\n"
          ]
        }
      ],
      "source": [
        "nltk.download('punkt')\n",
        "nltk.download\n",
        "nltk.download('wordnet')\n",
        "#passing the total_text colom and returining it to  total_text_clean\n",
        "clean_df = clean_text(my_data, 'total_text', 'total_text_clean')"
      ]
    },
    {
      "cell_type": "code",
      "execution_count": 19,
      "metadata": {
        "colab": {
          "base_uri": "https://localhost:8080/",
          "height": 237
        },
        "id": "CsfLPknNFZBs",
        "outputId": "c8283cf6-1726-48ef-dd9b-a76997864bc9"
      },
      "outputs": [
        {
          "data": {
            "text/html": [
              "<div>\n",
              "<style scoped>\n",
              "    .dataframe tbody tr th:only-of-type {\n",
              "        vertical-align: middle;\n",
              "    }\n",
              "\n",
              "    .dataframe tbody tr th {\n",
              "        vertical-align: top;\n",
              "    }\n",
              "\n",
              "    .dataframe thead th {\n",
              "        text-align: right;\n",
              "    }\n",
              "</style>\n",
              "<table border=\"1\" class=\"dataframe\">\n",
              "  <thead>\n",
              "    <tr style=\"text-align: right;\">\n",
              "      <th></th>\n",
              "      <th>total_text_clean</th>\n",
              "      <th>Computer Science</th>\n",
              "      <th>Physics</th>\n",
              "      <th>Mathematics</th>\n",
              "      <th>Statistics</th>\n",
              "      <th>other</th>\n",
              "    </tr>\n",
              "    <tr>\n",
              "      <th>ID</th>\n",
              "      <th></th>\n",
              "      <th></th>\n",
              "      <th></th>\n",
              "      <th></th>\n",
              "      <th></th>\n",
              "      <th></th>\n",
              "    </tr>\n",
              "  </thead>\n",
              "  <tbody>\n",
              "    <tr>\n",
              "      <th>1</th>\n",
              "      <td>reconstructing subjectspecific effect map pred...</td>\n",
              "      <td>1</td>\n",
              "      <td>0</td>\n",
              "      <td>0</td>\n",
              "      <td>0</td>\n",
              "      <td>0</td>\n",
              "    </tr>\n",
              "    <tr>\n",
              "      <th>2</th>\n",
              "      <td>rotation invariance neural network rotation in...</td>\n",
              "      <td>1</td>\n",
              "      <td>0</td>\n",
              "      <td>0</td>\n",
              "      <td>0</td>\n",
              "      <td>0</td>\n",
              "    </tr>\n",
              "    <tr>\n",
              "      <th>3</th>\n",
              "      <td>spherical polyharmonics poisson kernel polyhar...</td>\n",
              "      <td>0</td>\n",
              "      <td>0</td>\n",
              "      <td>1</td>\n",
              "      <td>0</td>\n",
              "      <td>0</td>\n",
              "    </tr>\n",
              "    <tr>\n",
              "      <th>4</th>\n",
              "      <td>finite element approximation stochastic maxwel...</td>\n",
              "      <td>0</td>\n",
              "      <td>0</td>\n",
              "      <td>1</td>\n",
              "      <td>0</td>\n",
              "      <td>0</td>\n",
              "    </tr>\n",
              "    <tr>\n",
              "      <th>5</th>\n",
              "      <td>comparative study discrete wavelet transforms ...</td>\n",
              "      <td>1</td>\n",
              "      <td>0</td>\n",
              "      <td>0</td>\n",
              "      <td>1</td>\n",
              "      <td>0</td>\n",
              "    </tr>\n",
              "  </tbody>\n",
              "</table>\n",
              "</div>"
            ],
            "text/plain": [
              "                                     total_text_clean  Computer Science   \n",
              "ID                                                                        \n",
              "1   reconstructing subjectspecific effect map pred...                 1  \\\n",
              "2   rotation invariance neural network rotation in...                 1   \n",
              "3   spherical polyharmonics poisson kernel polyhar...                 0   \n",
              "4   finite element approximation stochastic maxwel...                 0   \n",
              "5   comparative study discrete wavelet transforms ...                 1   \n",
              "\n",
              "    Physics  Mathematics  Statistics  other  \n",
              "ID                                           \n",
              "1         0            0           0      0  \n",
              "2         0            0           0      0  \n",
              "3         0            1           0      0  \n",
              "4         0            1           0      0  \n",
              "5         0            0           1      0  "
            ]
          },
          "execution_count": 19,
          "metadata": {},
          "output_type": "execute_result"
        }
      ],
      "source": [
        "final_df = clean_df[['total_text_clean', 'Computer Science', 'Physics', 'Mathematics', 'Statistics', 'other']]\n",
        "final_df.head()"
      ]
    },
    {
      "attachments": {},
      "cell_type": "markdown",
      "metadata": {
        "id": "bMeKMmWh2FHv"
      },
      "source": [
        " (MultiOutputClassifier) is used with a RandomForestClassifier as the base estimator.\n",
        " <br> This approach treats each label as a separate binary classification problem."
      ]
    },
    {
      "attachments": {},
      "cell_type": "markdown",
      "metadata": {
        "id": "wc4d-agMYl3X"
      },
      "source": [
        "#TF-IDF"
      ]
    },
    {
      "cell_type": "code",
      "execution_count": 20,
      "metadata": {
        "id": "69bQxm_f2FHw"
      },
      "outputs": [],
      "source": [
        "from sklearn.model_selection import train_test_split\n",
        "from sklearn.feature_extraction.text import TfidfVectorizer\n",
        "\n",
        "X = final_df['total_text_clean'] # data (text)\n",
        "y = final_df.iloc[:, 1:]  # Assuming labels start from column 1 # starting from CS- QF. (labelling)\n",
        "\n",
        "# Split the data into training and testing sets\n",
        "X_train, X_test, y_train, y_test = train_test_split(X, y, test_size=0.2, random_state=42)\n",
        "\n",
        "# TF-IDF vectorization\n",
        "tfidf_vectorizer = TfidfVectorizer(max_features=1000, stop_words='english',use_idf=True)\n",
        "X_train_vectors_tfidf = tfidf_vectorizer.fit_transform(X_train)\n",
        "X_test_vectors_tfidf = tfidf_vectorizer.transform(X_test)"
      ]
    },
    {
      "attachments": {},
      "cell_type": "markdown",
      "metadata": {
        "id": "9M_prmQjYYDN"
      },
      "source": [
        "#Word2Vec"
      ]
    },
    {
      "cell_type": "code",
      "execution_count": 21,
      "metadata": {
        "id": "7vMUdHJiYTsW"
      },
      "outputs": [],
      "source": [
        "from sklearn.model_selection import train_test_split\n",
        "from gensim.models import Word2Vec\n",
        "\n",
        "# Assuming 'final_df' is your DataFrame with the mentioned structure\n",
        "X = final_df['total_text_clean']  # Text data\n",
        "y = final_df.iloc[:, 1:]  # Assuming labels start from column 1\n",
        "\n",
        "# Split the data into training and testing sets\n",
        "X_train, X_test, y_train, y_test = train_test_split(X, y, test_size=0.2, random_state=42)\n",
        "\n",
        "# Training Word2Vec on your text data\n",
        "sentences = [text.split() for text in X_train]\n",
        "word2vec_model = Word2Vec(sentences, vector_size=100, window=5, min_count=1, workers=4)\n",
        "\n",
        "# Function to obtain the vector representation of a text using Word2Vec\n",
        "def get_text_vector(text, model):\n",
        "    words = text.split()\n",
        "    vectors = [model.wv[word] for word in words if word in model.wv]\n",
        "    return np.mean(vectors, axis=0) if vectors else np.zeros(model.vector_size)\n",
        "\n",
        "# Applying Word2Vec to your training and testing data\n",
        "X_train_word2vec = np.vstack([get_text_vector(text, word2vec_model) for text in X_train])\n",
        "X_test_word2vec = np.vstack([get_text_vector(text, word2vec_model) for text in X_test])"
      ]
    },
    {
      "attachments": {},
      "cell_type": "markdown",
      "metadata": {
        "id": "nqRM_SxOhZcU"
      },
      "source": [
        "Data Frame (X_test)"
      ]
    },
    {
      "cell_type": "code",
      "execution_count": 22,
      "metadata": {
        "id": "t8BkgFsZ2FHx"
      },
      "outputs": [],
      "source": [
        "X_test_df = pd.DataFrame(X_test)"
      ]
    },
    {
      "cell_type": "code",
      "execution_count": 23,
      "metadata": {
        "colab": {
          "base_uri": "https://localhost:8080/",
          "height": 455
        },
        "id": "umOOBA_-2FHx",
        "outputId": "e69242a9-973d-4fb9-b260-40dfecc89ad5"
      },
      "outputs": [
        {
          "data": {
            "text/html": [
              "<div>\n",
              "<style scoped>\n",
              "    .dataframe tbody tr th:only-of-type {\n",
              "        vertical-align: middle;\n",
              "    }\n",
              "\n",
              "    .dataframe tbody tr th {\n",
              "        vertical-align: top;\n",
              "    }\n",
              "\n",
              "    .dataframe thead th {\n",
              "        text-align: right;\n",
              "    }\n",
              "</style>\n",
              "<table border=\"1\" class=\"dataframe\">\n",
              "  <thead>\n",
              "    <tr style=\"text-align: right;\">\n",
              "      <th></th>\n",
              "      <th>total_text_clean</th>\n",
              "    </tr>\n",
              "    <tr>\n",
              "      <th>ID</th>\n",
              "      <th></th>\n",
              "    </tr>\n",
              "  </thead>\n",
              "  <tbody>\n",
              "    <tr>\n",
              "      <th>20258</th>\n",
              "      <td>dynamic layer normalization adaptive neural ac...</td>\n",
              "    </tr>\n",
              "    <tr>\n",
              "      <th>483</th>\n",
              "      <td>susceptibility propagation using diagonal cons...</td>\n",
              "    </tr>\n",
              "    <tr>\n",
              "      <th>4190</th>\n",
              "      <td>robot routing problem collecting aggregate sto...</td>\n",
              "    </tr>\n",
              "    <tr>\n",
              "      <th>9839</th>\n",
              "      <td>probability statistic planet earth geotemporal...</td>\n",
              "    </tr>\n",
              "    <tr>\n",
              "      <th>16592</th>\n",
              "      <td>counting number metastable state modularity la...</td>\n",
              "    </tr>\n",
              "    <tr>\n",
              "      <th>...</th>\n",
              "      <td>...</td>\n",
              "    </tr>\n",
              "    <tr>\n",
              "      <th>14741</th>\n",
              "      <td>mulog apply gaussian denoisers multichannel sa...</td>\n",
              "    </tr>\n",
              "    <tr>\n",
              "      <th>3756</th>\n",
              "      <td>strong correlation strongly recurrent neuronal...</td>\n",
              "    </tr>\n",
              "    <tr>\n",
              "      <th>10685</th>\n",
              "      <td>capacity class polyhedron k borsuk topological...</td>\n",
              "    </tr>\n",
              "    <tr>\n",
              "      <th>16275</th>\n",
              "      <td>fornax deep survey vst ii fornax twophase asse...</td>\n",
              "    </tr>\n",
              "    <tr>\n",
              "      <th>14453</th>\n",
              "      <td>making compression algorithm unicode text majo...</td>\n",
              "    </tr>\n",
              "  </tbody>\n",
              "</table>\n",
              "<p>4195 rows × 1 columns</p>\n",
              "</div>"
            ],
            "text/plain": [
              "                                        total_text_clean\n",
              "ID                                                      \n",
              "20258  dynamic layer normalization adaptive neural ac...\n",
              "483    susceptibility propagation using diagonal cons...\n",
              "4190   robot routing problem collecting aggregate sto...\n",
              "9839   probability statistic planet earth geotemporal...\n",
              "16592  counting number metastable state modularity la...\n",
              "...                                                  ...\n",
              "14741  mulog apply gaussian denoisers multichannel sa...\n",
              "3756   strong correlation strongly recurrent neuronal...\n",
              "10685  capacity class polyhedron k borsuk topological...\n",
              "16275  fornax deep survey vst ii fornax twophase asse...\n",
              "14453  making compression algorithm unicode text majo...\n",
              "\n",
              "[4195 rows x 1 columns]"
            ]
          },
          "execution_count": 23,
          "metadata": {},
          "output_type": "execute_result"
        }
      ],
      "source": [
        "X_test_df"
      ]
    },
    {
      "attachments": {},
      "cell_type": "markdown",
      "metadata": {
        "id": "Yq7c9X0whqe8"
      },
      "source": [
        "Data Frame (y_test)"
      ]
    },
    {
      "cell_type": "code",
      "execution_count": 24,
      "metadata": {
        "id": "FqCZIMwq2FHy"
      },
      "outputs": [],
      "source": [
        "y_test = pd.DataFrame(y_test)"
      ]
    },
    {
      "cell_type": "code",
      "execution_count": 25,
      "metadata": {
        "colab": {
          "base_uri": "https://localhost:8080/",
          "height": 455
        },
        "id": "lMtN2fO_2FHz",
        "outputId": "4d8e52ca-04de-4158-e838-83f6b06a1e49"
      },
      "outputs": [
        {
          "data": {
            "text/html": [
              "<div>\n",
              "<style scoped>\n",
              "    .dataframe tbody tr th:only-of-type {\n",
              "        vertical-align: middle;\n",
              "    }\n",
              "\n",
              "    .dataframe tbody tr th {\n",
              "        vertical-align: top;\n",
              "    }\n",
              "\n",
              "    .dataframe thead th {\n",
              "        text-align: right;\n",
              "    }\n",
              "</style>\n",
              "<table border=\"1\" class=\"dataframe\">\n",
              "  <thead>\n",
              "    <tr style=\"text-align: right;\">\n",
              "      <th></th>\n",
              "      <th>Computer Science</th>\n",
              "      <th>Physics</th>\n",
              "      <th>Mathematics</th>\n",
              "      <th>Statistics</th>\n",
              "      <th>other</th>\n",
              "    </tr>\n",
              "    <tr>\n",
              "      <th>ID</th>\n",
              "      <th></th>\n",
              "      <th></th>\n",
              "      <th></th>\n",
              "      <th></th>\n",
              "      <th></th>\n",
              "    </tr>\n",
              "  </thead>\n",
              "  <tbody>\n",
              "    <tr>\n",
              "      <th>20258</th>\n",
              "      <td>1</td>\n",
              "      <td>0</td>\n",
              "      <td>0</td>\n",
              "      <td>0</td>\n",
              "      <td>0</td>\n",
              "    </tr>\n",
              "    <tr>\n",
              "      <th>483</th>\n",
              "      <td>0</td>\n",
              "      <td>0</td>\n",
              "      <td>1</td>\n",
              "      <td>1</td>\n",
              "      <td>0</td>\n",
              "    </tr>\n",
              "    <tr>\n",
              "      <th>4190</th>\n",
              "      <td>1</td>\n",
              "      <td>0</td>\n",
              "      <td>1</td>\n",
              "      <td>0</td>\n",
              "      <td>0</td>\n",
              "    </tr>\n",
              "    <tr>\n",
              "      <th>9839</th>\n",
              "      <td>0</td>\n",
              "      <td>1</td>\n",
              "      <td>0</td>\n",
              "      <td>1</td>\n",
              "      <td>0</td>\n",
              "    </tr>\n",
              "    <tr>\n",
              "      <th>16592</th>\n",
              "      <td>1</td>\n",
              "      <td>0</td>\n",
              "      <td>0</td>\n",
              "      <td>0</td>\n",
              "      <td>0</td>\n",
              "    </tr>\n",
              "    <tr>\n",
              "      <th>...</th>\n",
              "      <td>...</td>\n",
              "      <td>...</td>\n",
              "      <td>...</td>\n",
              "      <td>...</td>\n",
              "      <td>...</td>\n",
              "    </tr>\n",
              "    <tr>\n",
              "      <th>14741</th>\n",
              "      <td>0</td>\n",
              "      <td>0</td>\n",
              "      <td>1</td>\n",
              "      <td>1</td>\n",
              "      <td>0</td>\n",
              "    </tr>\n",
              "    <tr>\n",
              "      <th>3756</th>\n",
              "      <td>0</td>\n",
              "      <td>0</td>\n",
              "      <td>0</td>\n",
              "      <td>0</td>\n",
              "      <td>1</td>\n",
              "    </tr>\n",
              "    <tr>\n",
              "      <th>10685</th>\n",
              "      <td>0</td>\n",
              "      <td>0</td>\n",
              "      <td>1</td>\n",
              "      <td>0</td>\n",
              "      <td>0</td>\n",
              "    </tr>\n",
              "    <tr>\n",
              "      <th>16275</th>\n",
              "      <td>0</td>\n",
              "      <td>1</td>\n",
              "      <td>0</td>\n",
              "      <td>0</td>\n",
              "      <td>0</td>\n",
              "    </tr>\n",
              "    <tr>\n",
              "      <th>14453</th>\n",
              "      <td>1</td>\n",
              "      <td>0</td>\n",
              "      <td>1</td>\n",
              "      <td>0</td>\n",
              "      <td>0</td>\n",
              "    </tr>\n",
              "  </tbody>\n",
              "</table>\n",
              "<p>4195 rows × 5 columns</p>\n",
              "</div>"
            ],
            "text/plain": [
              "       Computer Science  Physics  Mathematics  Statistics  other\n",
              "ID                                                              \n",
              "20258                 1        0            0           0      0\n",
              "483                   0        0            1           1      0\n",
              "4190                  1        0            1           0      0\n",
              "9839                  0        1            0           1      0\n",
              "16592                 1        0            0           0      0\n",
              "...                 ...      ...          ...         ...    ...\n",
              "14741                 0        0            1           1      0\n",
              "3756                  0        0            0           0      1\n",
              "10685                 0        0            1           0      0\n",
              "16275                 0        1            0           0      0\n",
              "14453                 1        0            1           0      0\n",
              "\n",
              "[4195 rows x 5 columns]"
            ]
          },
          "execution_count": 25,
          "metadata": {},
          "output_type": "execute_result"
        }
      ],
      "source": [
        "y_test"
      ]
    },
    {
      "cell_type": "code",
      "execution_count": 26,
      "metadata": {
        "colab": {
          "base_uri": "https://localhost:8080/",
          "height": 1000
        },
        "id": "ODsAwWt02FHz",
        "outputId": "fdf5fb92-a3e0-40eb-8fd7-9dfb3446564c"
      },
      "outputs": [
        {
          "name": "stdout",
          "output_type": "stream",
          "text": [
            "Computer Science\n",
            "0    2503\n",
            "1    1692\n",
            "Name: count, dtype: int64\n",
            "Physics\n",
            "0    2969\n",
            "1    1226\n",
            "Name: count, dtype: int64\n",
            "Mathematics\n",
            "0    3045\n",
            "1    1150\n",
            "Name: count, dtype: int64\n",
            "Statistics\n",
            "0    3126\n",
            "1    1069\n",
            "Name: count, dtype: int64\n",
            "other\n",
            "0    4029\n",
            "1     166\n",
            "Name: count, dtype: int64\n"
          ]
        },
        {
          "data": {
            "image/png": "[encoded data removed]",
            "text/plain": [
              "<Figure size 800x600 with 1 Axes>"
            ]
          },
          "metadata": {},
          "output_type": "display_data"
        },
        {
          "data": {
            "image/png": "[encoded data removed]",
            "text/plain": [
              "<Figure size 800x600 with 1 Axes>"
            ]
          },
          "metadata": {},
          "output_type": "display_data"
        },
        {
          "data": {
            "image/png": "[encoded data removed]",
            "text/plain": [
              "<Figure size 800x600 with 1 Axes>"
            ]
          },
          "metadata": {},
          "output_type": "display_data"
        },
        {
          "data": {
            "image/png": "[encoded data removed]",
            "text/plain": [
              "<Figure size 800x600 with 1 Axes>"
            ]
          },
          "metadata": {},
          "output_type": "display_data"
        },
        {
          "data": {
            "image/png": "[encoded data removed]",
            "text/plain": [
              "<Figure size 800x600 with 1 Axes>"
            ]
          },
          "metadata": {},
          "output_type": "display_data"
        }
      ],
      "source": [
        "for i in y_test.columns[:]:\n",
        "    target_temp = y_test[i].value_counts()\n",
        "    print(target_temp)\n",
        "\n",
        "\n",
        "# Plot histograms for each relevant column\n",
        "for column in y_test.columns[:]:\n",
        "    plt.figure(figsize=(8, 6))\n",
        "    my_data[column].value_counts().sort_index().plot(kind='bar', color='#0504aa', alpha=0.7)\n",
        "    plt.title(f'Bar Plot for {column}')\n",
        "    plt.xlabel(column)\n",
        "    plt.ylabel('Count')\n",
        "    plt.grid(axis='y', linestyle='--', alpha=0.7)\n",
        "    plt.show()"
      ]
    },
    {
      "attachments": {},
      "cell_type": "markdown",
      "metadata": {
        "id": "1r2T2URr2FH2"
      },
      "source": [
        "# RandomForest Classifier"
      ]
    },
    {
      "cell_type": "code",
      "execution_count": 27,
      "metadata": {
        "id": "SLsXSkNn2FH2"
      },
      "outputs": [],
      "source": [
        "# Initialize MultiOutputClassifier with RandomForestClassifier as the base estimator\n",
        "multi_rf_classifier = MultiOutputClassifier(RandomForestClassifier(random_state=42))\n",
        "\n",
        "# Define the parameter grid for the RandomForestClassifier\n",
        "param_grid = {\n",
        "    'estimator__n_estimators': [50, 100, 200],\n",
        "    'estimator__max_depth': [None, 10, 20],\n",
        "    'estimator__min_samples_split': [2, 5, 10]\n",
        "}\n",
        "\n",
        "# Create the GridSearchCV object\n",
        "grid_search_rf_tfidf = GridSearchCV(estimator=multi_rf_classifier, param_grid=param_grid, cv=5, scoring='accuracy')\n",
        "grid_search_rf_word2vec = GridSearchCV(estimator=multi_rf_classifier, param_grid=param_grid, cv=5, scoring='accuracy')\n",
        "\n"
      ]
    },
    {
      "attachments": {},
      "cell_type": "markdown",
      "metadata": {
        "id": "2beY8SLiVy88"
      },
      "source": [
        "### RF: TF-IDF"
      ]
    },
    {
      "cell_type": "code",
      "execution_count": 28,
      "metadata": {
        "colab": {
          "base_uri": "https://localhost:8080/"
        },
        "id": "bNsiTO9yN8fx",
        "outputId": "65f7cccf-9684-404f-963b-4829928e05ed"
      },
      "outputs": [
        {
          "name": "stdout",
          "output_type": "stream",
          "text": [
            "Best Parameters:  {'estimator__max_depth': None, 'estimator__min_samples_split': 5, 'estimator__n_estimators': 200}\n",
            "Training Score:  0.9929069559516004\n"
          ]
        }
      ],
      "source": [
        "# Train the model using grid search\n",
        "grid_search_rf_tfidf.fit(X_train_vectors_tfidf, y_train)\n",
        "\n",
        "# Print the best parameters and the corresponding accuracy\n",
        "print(\"Best Parameters: \", grid_search_rf_tfidf.best_params_)\n",
        "\n",
        "# Evaluate the training score\n",
        "training_score = grid_search_rf_tfidf.score(X_train_vectors_tfidf, y_train)\n",
        "print(\"Training Score: \", training_score)\n"
      ]
    },
    {
      "cell_type": "code",
      "execution_count": 29,
      "metadata": {
        "colab": {
          "base_uri": "https://localhost:8080/"
        },
        "id": "-gNAINChOF-X",
        "outputId": "8020fb10-6f21-43c9-eb37-d5752cf12922"
      },
      "outputs": [],
      "source": [
        "# Make predictions on the test set\n",
        "y_pred_rf_tfidf = grid_search_rf_tfidf.predict(X_test_vectors_tfidf)"
      ]
    },
    {
      "cell_type": "code",
      "execution_count": 30,
      "metadata": {
        "colab": {
          "base_uri": "https://localhost:8080/"
        },
        "id": "1ll-Mmke2FH4",
        "outputId": "cee9ad4d-fed4-4866-d1e0-f55a4db31b74"
      },
      "outputs": [
        {
          "name": "stdout",
          "output_type": "stream",
          "text": [
            "Classification Report :\n",
            "              precision    recall  f1-score   support\n",
            "\n",
            "           0       0.78      0.86      0.82      1692\n",
            "           1       0.91      0.78      0.84      1226\n",
            "           2       0.86      0.68      0.76      1150\n",
            "           3       0.79      0.69      0.74      1069\n",
            "           4       0.71      0.03      0.06       166\n",
            "\n",
            "   micro avg       0.83      0.74      0.78      5303\n",
            "   macro avg       0.81      0.61      0.64      5303\n",
            "weighted avg       0.83      0.74      0.77      5303\n",
            " samples avg       0.78      0.77      0.76      5303\n",
            "\n"
          ]
        },
        {
          "name": "stderr",
          "output_type": "stream",
          "text": [
            "c:\\Users\\fatem\\AppData\\Local\\Programs\\Python\\Python311\\Lib\\site-packages\\sklearn\\metrics\\_classification.py:1344: UndefinedMetricWarning: Precision and F-score are ill-defined and being set to 0.0 in samples with no predicted labels. Use `zero_division` parameter to control this behavior.\n",
            "  _warn_prf(average, modifier, msg_start, len(result))\n"
          ]
        }
      ],
      "source": [
        "# Evaluate the performance using classification report\n",
        "print(\"Classification Report :\")\n",
        "print(classification_report(y_test, y_pred_rf_tfidf))"
      ]
    },
    {
      "cell_type": "code",
      "execution_count": 32,
      "metadata": {},
      "outputs": [
        {
          "data": {
            "text/plain": [
              "['RandomForest_TFIDF.joblib']"
            ]
          },
          "execution_count": 32,
          "metadata": {},
          "output_type": "execute_result"
        }
      ],
      "source": [
        "from joblib import dump\n",
        "\n",
        "model_path = 'RandomForest_TFIDF.joblib'  # Specify the file name as \"RandomForest_TFIDF.joblib\"\n",
        "dump(grid_search_rf_tfidf, model_path)"
      ]
    },
    {
      "attachments": {},
      "cell_type": "markdown",
      "metadata": {
        "id": "fQQzLje8WIxk"
      },
      "source": [
        "### RF: Word2Vec"
      ]
    },
    {
      "cell_type": "code",
      "execution_count": 33,
      "metadata": {
        "id": "KNlEgS0aWRTd"
      },
      "outputs": [
        {
          "name": "stdout",
          "output_type": "stream",
          "text": [
            "Best Parameters:  {'estimator__max_depth': 20, 'estimator__min_samples_split': 10, 'estimator__n_estimators': 200}\n",
            "Training Score:  0.9182213745008047\n"
          ]
        }
      ],
      "source": [
        "# Train the model on the Word2Vec vectors\n",
        "grid_search_rf_word2vec.fit(X_train_word2vec, y_train)\n",
        "\n",
        "# Print the best parameters and the corresponding accuracy\n",
        "print(\"Best Parameters: \", grid_search_rf_word2vec.best_params_)\n",
        "\n",
        "# Evaluate the training score\n",
        "training_score = grid_search_rf_word2vec.score(X_train_word2vec, y_train)\n",
        "print(\"Training Score: \", training_score)\n"
      ]
    },
    {
      "cell_type": "code",
      "execution_count": 34,
      "metadata": {
        "id": "wFKnB63sWRWy"
      },
      "outputs": [],
      "source": [
        "# Make predictions on the Word2Vec vectors\n",
        "y_pred_rf_word2vec = grid_search_rf_word2vec.predict(X_test_word2vec)"
      ]
    },
    {
      "cell_type": "code",
      "execution_count": 35,
      "metadata": {
        "id": "OpfVqJBfWdaA"
      },
      "outputs": [
        {
          "data": {
            "text/plain": [
              "0.9182213745008047"
            ]
          },
          "execution_count": 35,
          "metadata": {},
          "output_type": "execute_result"
        }
      ],
      "source": [
        "grid_search_rf_word2vec.score(X_train_word2vec, y_train) # - training Score 100"
      ]
    },
    {
      "cell_type": "code",
      "execution_count": 36,
      "metadata": {
        "id": "DsnpRBiBWdd_"
      },
      "outputs": [
        {
          "name": "stdout",
          "output_type": "stream",
          "text": [
            "Classification Report:\n",
            "              precision    recall  f1-score   support\n",
            "\n",
            "           0       0.78      0.84      0.81      1692\n",
            "           1       0.91      0.79      0.84      1226\n",
            "           2       0.82      0.76      0.79      1150\n",
            "           3       0.76      0.72      0.74      1069\n",
            "           4       0.50      0.01      0.01       166\n",
            "\n",
            "   micro avg       0.81      0.76      0.78      5303\n",
            "   macro avg       0.75      0.62      0.64      5303\n",
            "weighted avg       0.80      0.76      0.77      5303\n",
            " samples avg       0.80      0.79      0.78      5303\n",
            "\n"
          ]
        },
        {
          "name": "stderr",
          "output_type": "stream",
          "text": [
            "c:\\Users\\fatem\\AppData\\Local\\Programs\\Python\\Python311\\Lib\\site-packages\\sklearn\\metrics\\_classification.py:1344: UndefinedMetricWarning: Precision and F-score are ill-defined and being set to 0.0 in samples with no predicted labels. Use `zero_division` parameter to control this behavior.\n",
            "  _warn_prf(average, modifier, msg_start, len(result))\n"
          ]
        }
      ],
      "source": [
        "# Evaluate the performance\n",
        "print(\"Classification Report:\")\n",
        "print(classification_report(y_test, y_pred_rf_word2vec))"
      ]
    },
    {
      "cell_type": "code",
      "execution_count": 37,
      "metadata": {},
      "outputs": [
        {
          "data": {
            "text/plain": [
              "['RandomForest_Word2Vec.joblib']"
            ]
          },
          "execution_count": 37,
          "metadata": {},
          "output_type": "execute_result"
        }
      ],
      "source": [
        "from joblib import dump\n",
        "\n",
        "model_path = 'RandomForest_Word2Vec.joblib'  # Specify the file name as \"sara.joblib\"\n",
        "dump(grid_search_rf_word2vec, model_path)"
      ]
    },
    {
      "attachments": {},
      "cell_type": "markdown",
      "metadata": {
        "id": "_Q0Wucnq2FH9"
      },
      "source": [
        "# Logistic Regression Classifier"
      ]
    },
    {
      "cell_type": "code",
      "execution_count": 38,
      "metadata": {
        "id": "5Q6v2RZa2FIa"
      },
      "outputs": [],
      "source": [
        "# Initialize MultiOutputClassifier with LogisticRegression as the base estimator\n",
        "multi_lr_classifier = MultiOutputClassifier(LogisticRegression(solver='liblinear', random_state=42))\n",
        "\n",
        "# Define the parameter grid for the LogisticRegression\n",
        "param_grid_lr = {\n",
        "    'estimator__C': [0.001, 0.01, 0.1, 1, 10],\n",
        "    'estimator__penalty': ['l1', 'l2'],\n",
        "    'estimator__max_iter': [100, 200, 300]\n",
        "}\n",
        "\n",
        "# Create the GridSearchCV object\n",
        "grid_search_lr = GridSearchCV(estimator=multi_lr_classifier, param_grid=param_grid_lr, cv=5, scoring='accuracy')\n"
      ]
    },
    {
      "attachments": {},
      "cell_type": "markdown",
      "metadata": {
        "id": "YBprRusxZsvk"
      },
      "source": [
        "### LR: TF-IDF"
      ]
    },
    {
      "cell_type": "code",
      "execution_count": 39,
      "metadata": {
        "id": "kOR_PNXdScw7"
      },
      "outputs": [
        {
          "name": "stdout",
          "output_type": "stream",
          "text": [
            "Best Parameters:  {'estimator__C': 1, 'estimator__max_iter': 100, 'estimator__penalty': 'l2'}\n",
            "Training Score:  0.659891518149848\n"
          ]
        }
      ],
      "source": [
        "# Train the model using grid search\n",
        "grid_search_lr.fit(X_train_vectors_tfidf, y_train)\n",
        "\n",
        "# Print the best parameters and the corresponding accuracy\n",
        "print(\"Best Parameters: \", grid_search_lr.best_params_)\n",
        "\n",
        "# Evaluate the training score\n",
        "training_score_lr = grid_search_lr.score(X_train_vectors_tfidf, y_train)\n",
        "print(\"Training Score: \", training_score_lr)"
      ]
    },
    {
      "cell_type": "code",
      "execution_count": 40,
      "metadata": {
        "id": "oAWGBFTsSc0f"
      },
      "outputs": [],
      "source": [
        "# Make predictions on the test set\n",
        "y_pred_lr_tfidf = grid_search_lr.predict(X_test_vectors_tfidf)"
      ]
    },
    {
      "cell_type": "code",
      "execution_count": 41,
      "metadata": {
        "id": "MUKAfQDp2FIc",
        "outputId": "b03377d4-5e15-4eca-8b1d-e5cd2fdcca5a"
      },
      "outputs": [
        {
          "name": "stdout",
          "output_type": "stream",
          "text": [
            "Classification Report:\n",
            "              precision    recall  f1-score   support\n",
            "\n",
            "           0       0.81      0.80      0.81      1692\n",
            "           1       0.90      0.79      0.84      1226\n",
            "           2       0.84      0.73      0.78      1150\n",
            "           3       0.81      0.67      0.73      1069\n",
            "           4       0.79      0.13      0.23       166\n",
            "\n",
            "   micro avg       0.84      0.74      0.78      5303\n",
            "   macro avg       0.83      0.62      0.68      5303\n",
            "weighted avg       0.84      0.74      0.78      5303\n",
            " samples avg       0.79      0.77      0.76      5303\n",
            "\n"
          ]
        },
        {
          "name": "stderr",
          "output_type": "stream",
          "text": [
            "c:\\Users\\fatem\\AppData\\Local\\Programs\\Python\\Python311\\Lib\\site-packages\\sklearn\\metrics\\_classification.py:1344: UndefinedMetricWarning: Precision and F-score are ill-defined and being set to 0.0 in samples with no predicted labels. Use `zero_division` parameter to control this behavior.\n",
            "  _warn_prf(average, modifier, msg_start, len(result))\n"
          ]
        }
      ],
      "source": [
        "# Evaluate the performance\n",
        "print(\"Classification Report:\")\n",
        "print(classification_report(y_test, y_pred_lr_tfidf))"
      ]
    },
    {
      "cell_type": "code",
      "execution_count": 42,
      "metadata": {},
      "outputs": [
        {
          "data": {
            "text/plain": [
              "['LogisticRegression_TFIDF.joblib']"
            ]
          },
          "execution_count": 42,
          "metadata": {},
          "output_type": "execute_result"
        }
      ],
      "source": [
        "from joblib import dump\n",
        "\n",
        "model_path = 'LogisticRegression_TFIDF.joblib'  # Specify the file name as \"LogisticRegression_TFIDF.joblib\"\n",
        "dump(grid_search_rf_word2vec, model_path)"
      ]
    },
    {
      "attachments": {},
      "cell_type": "markdown",
      "metadata": {
        "id": "OP5aCXU6Zinj"
      },
      "source": [
        "### LR: Word2Vec"
      ]
    },
    {
      "cell_type": "code",
      "execution_count": 43,
      "metadata": {
        "id": "p7FXr7S6ZzQL"
      },
      "outputs": [
        {
          "name": "stdout",
          "output_type": "stream",
          "text": [
            "Best Parameters:  {'estimator__C': 10, 'estimator__max_iter': 100, 'estimator__penalty': 'l1'}\n",
            "Training Score:  0.6282410442868213\n"
          ]
        }
      ],
      "source": [
        "# Train the model\n",
        "grid_search_lr.fit(X_train_word2vec, y_train)\n",
        "\n",
        "# Print the best parameters and the corresponding accuracy\n",
        "print(\"Best Parameters: \", grid_search_lr.best_params_)\n",
        "\n",
        "# Evaluate the training score\n",
        "training_score = grid_search_lr.score(X_train_word2vec, y_train)\n",
        "print(\"Training Score: \", training_score)"
      ]
    },
    {
      "cell_type": "code",
      "execution_count": 44,
      "metadata": {
        "id": "VAsbXTssZzTl"
      },
      "outputs": [],
      "source": [
        "# Make predictions on the Word2Vec vectors\n",
        "y_pred_lr_word2vec = grid_search_lr.predict(X_test_word2vec)"
      ]
    },
    {
      "cell_type": "code",
      "execution_count": 45,
      "metadata": {
        "id": "aCXSUrdIZzYc"
      },
      "outputs": [
        {
          "name": "stdout",
          "output_type": "stream",
          "text": [
            "Classification Report:\n",
            "              precision    recall  f1-score   support\n",
            "\n",
            "           0       0.79      0.82      0.81      1692\n",
            "           1       0.89      0.82      0.85      1226\n",
            "           2       0.83      0.75      0.79      1150\n",
            "           3       0.77      0.70      0.73      1069\n",
            "           4       0.38      0.02      0.03       166\n",
            "\n",
            "   micro avg       0.82      0.76      0.78      5303\n",
            "   macro avg       0.73      0.62      0.64      5303\n",
            "weighted avg       0.80      0.76      0.77      5303\n",
            " samples avg       0.80      0.79      0.78      5303\n",
            "\n"
          ]
        },
        {
          "name": "stderr",
          "output_type": "stream",
          "text": [
            "c:\\Users\\fatem\\AppData\\Local\\Programs\\Python\\Python311\\Lib\\site-packages\\sklearn\\metrics\\_classification.py:1344: UndefinedMetricWarning: Precision and F-score are ill-defined and being set to 0.0 in samples with no predicted labels. Use `zero_division` parameter to control this behavior.\n",
            "  _warn_prf(average, modifier, msg_start, len(result))\n"
          ]
        }
      ],
      "source": [
        "# Evaluate the performance\n",
        "print(\"Classification Report:\")\n",
        "print(classification_report(y_test, y_pred_lr_word2vec))"
      ]
    },
    {
      "cell_type": "code",
      "execution_count": 46,
      "metadata": {},
      "outputs": [
        {
          "data": {
            "text/plain": [
              "['LogisticRegression_Word2Vec.joblib']"
            ]
          },
          "execution_count": 46,
          "metadata": {},
          "output_type": "execute_result"
        }
      ],
      "source": [
        "from joblib import dump\n",
        "\n",
        "model_path = 'LogisticRegression_Word2Vec.joblib'  # Specify the file name as \"LogisticRegression_Word2Vec.joblib\"\n",
        "dump(grid_search_rf_word2vec, model_path)"
      ]
    },
    {
      "attachments": {},
      "cell_type": "markdown",
      "metadata": {
        "id": "HViyD3iV2FIc"
      },
      "source": [
        "# Naive Base Classifier"
      ]
    },
    {
      "attachments": {},
      "cell_type": "markdown",
      "metadata": {},
      "source": [
        "### NB: TF-IDF"
      ]
    },
    {
      "cell_type": "code",
      "execution_count": 61,
      "metadata": {
        "id": "KchtnJlQ2FId"
      },
      "outputs": [],
      "source": [
        "# Initialize MultiOutputClassifier with MultinomialNB as the base estimator\n",
        "multi_nb_classifier = MultiOutputClassifier(MultinomialNB())\n",
        "\n",
        "# Define the parameter grid for MultinomialNB\n",
        "param_grid_nb = {\n",
        "    'estimator__alpha': [0.1, 0.5, 1.0, 2.0],\n",
        "    'estimator__fit_prior': [True, False],\n",
        "    'estimator__class_prior': [None, [0.2, 0.8], [0.5, 0.5]],\n",
        "    # Add other parameters as needed\n",
        "}\n",
        "\n",
        "# Create the GridSearchCV object\n",
        "grid_search_nb_tfidf = GridSearchCV(estimator=multi_nb_classifier, param_grid=param_grid_nb, cv=5, scoring='accuracy')"
      ]
    },
    {
      "cell_type": "code",
      "execution_count": 62,
      "metadata": {
        "id": "zGjmm4ccSv6X"
      },
      "outputs": [
        {
          "name": "stdout",
          "output_type": "stream",
          "text": [
            "Best Parameters:  {'estimator__alpha': 0.5, 'estimator__class_prior': None, 'estimator__fit_prior': True}\n",
            "Training Score:  0.6139357453656792\n"
          ]
        }
      ],
      "source": [
        "# Train the model using grid search\n",
        "grid_search_nb_tfidf.fit(X_train_vectors_tfidf, y_train)\n",
        "\n",
        "# Print the best parameters and the corresponding accuracy\n",
        "print(\"Best Parameters: \", grid_search_nb_tfidf.best_params_)\n",
        "\n",
        "# Evaluate the training score\n",
        "training_score_nb = grid_search_nb_tfidf.score(X_train_vectors_tfidf, y_train)\n",
        "print(\"Training Score: \", training_score_nb)"
      ]
    },
    {
      "cell_type": "code",
      "execution_count": 63,
      "metadata": {
        "id": "4pZVACZnStc0"
      },
      "outputs": [],
      "source": [
        "# Make predictions on the test set\n",
        "y_pred_nb_tfidf = grid_search_nb_tfidf.predict(X_test_vectors_tfidf)"
      ]
    },
    {
      "cell_type": "code",
      "execution_count": 64,
      "metadata": {
        "id": "9p2kPhyv2FIe",
        "outputId": "5dad2437-d4ca-4a6a-9ba5-df4a76d5065b"
      },
      "outputs": [
        {
          "name": "stdout",
          "output_type": "stream",
          "text": [
            "Classification Report:\n",
            "              precision    recall  f1-score   support\n",
            "\n",
            "           0       0.78      0.81      0.80      1692\n",
            "           1       0.92      0.76      0.83      1226\n",
            "           2       0.82      0.71      0.76      1150\n",
            "           3       0.77      0.65      0.71      1069\n",
            "           4       0.67      0.01      0.02       166\n",
            "\n",
            "   micro avg       0.82      0.72      0.77      5303\n",
            "   macro avg       0.79      0.59      0.62      5303\n",
            "weighted avg       0.82      0.72      0.76      5303\n",
            " samples avg       0.76      0.75      0.74      5303\n",
            "\n"
          ]
        },
        {
          "name": "stderr",
          "output_type": "stream",
          "text": [
            "c:\\Users\\fatem\\AppData\\Local\\Programs\\Python\\Python311\\Lib\\site-packages\\sklearn\\metrics\\_classification.py:1344: UndefinedMetricWarning: Precision and F-score are ill-defined and being set to 0.0 in samples with no predicted labels. Use `zero_division` parameter to control this behavior.\n",
            "  _warn_prf(average, modifier, msg_start, len(result))\n"
          ]
        }
      ],
      "source": [
        "# Evaluate the performance\n",
        "print(\"Classification Report:\")\n",
        "print(classification_report(y_test, y_pred_nb_tfidf))"
      ]
    },
    {
      "cell_type": "code",
      "execution_count": 72,
      "metadata": {},
      "outputs": [
        {
          "data": {
            "text/plain": [
              "['NaiveBase_TFIDF.joblib']"
            ]
          },
          "execution_count": 72,
          "metadata": {},
          "output_type": "execute_result"
        }
      ],
      "source": [
        "from joblib import dump\n",
        "\n",
        "model_path = 'NaiveBase_TFIDF.joblib'  # Specify the file name as \"NaiveBase_TFIDF.joblib\"\n",
        "dump(grid_search_nb_tfidf, model_path)"
      ]
    },
    {
      "attachments": {},
      "cell_type": "markdown",
      "metadata": {},
      "source": [
        "### NB: Word2Vec"
      ]
    },
    {
      "cell_type": "code",
      "execution_count": 67,
      "metadata": {},
      "outputs": [],
      "source": [
        "from sklearn.naive_bayes import GaussianNB\n",
        "\n",
        "# Initialize MultiOutputClassifier with MultinomialNB as the base estimator\n",
        "multi_nb_classifier = MultiOutputClassifier(GaussianNB())\n",
        "\n",
        "# Define the parameter grid for MultinomialNB\n",
        "param_grid_nb = {\n",
        "    'estimator__priors': [None, [0.2, 0.8], [0.5, 0.5]]\n",
        "}\n",
        "\n",
        "# Create the GridSearchCV object\n",
        "grid_search_nb_word2vec = GridSearchCV(estimator=multi_nb_classifier, param_grid=param_grid_nb, cv=5, scoring='accuracy')"
      ]
    },
    {
      "cell_type": "code",
      "execution_count": 68,
      "metadata": {
        "id": "Akh3m8D2bPgN"
      },
      "outputs": [
        {
          "name": "stdout",
          "output_type": "stream",
          "text": [
            "Best Parameters:  {'estimator__priors': None}\n",
            "Training Score:  0.36651367944209334\n"
          ]
        }
      ],
      "source": [
        "# Train the model\n",
        "grid_search_nb_word2vec.fit(X_train_word2vec, y_train)\n",
        "\n",
        "# Print the best parameters and the corresponding accuracy\n",
        "print(\"Best Parameters: \", grid_search_nb_word2vec.best_params_)\n",
        "\n",
        "# Evaluate the training score\n",
        "training_score_nb = grid_search_nb_word2vec.score(X_train_word2vec, y_train)\n",
        "print(\"Training Score: \", training_score_nb)\n"
      ]
    },
    {
      "cell_type": "code",
      "execution_count": 69,
      "metadata": {
        "id": "Aur3GK3tbPmP"
      },
      "outputs": [],
      "source": [
        "# Make predictions on the Word2Vec vectors\n",
        "y_pred_word2vec_nb = grid_search_nb_word2vec.predict(X_test_word2vec)"
      ]
    },
    {
      "cell_type": "code",
      "execution_count": 70,
      "metadata": {
        "id": "tsw2MoFQbdE8"
      },
      "outputs": [
        {
          "name": "stdout",
          "output_type": "stream",
          "text": [
            "Classification Report:\n",
            "              precision    recall  f1-score   support\n",
            "\n",
            "           0       0.71      0.83      0.77      1692\n",
            "           1       0.87      0.79      0.83      1226\n",
            "           2       0.69      0.83      0.76      1150\n",
            "           3       0.51      0.91      0.65      1069\n",
            "           4       0.11      0.65      0.19       166\n",
            "\n",
            "   micro avg       0.60      0.83      0.70      5303\n",
            "   macro avg       0.58      0.80      0.64      5303\n",
            "weighted avg       0.68      0.83      0.74      5303\n",
            " samples avg       0.67      0.85      0.72      5303\n",
            "\n"
          ]
        },
        {
          "name": "stderr",
          "output_type": "stream",
          "text": [
            "c:\\Users\\fatem\\AppData\\Local\\Programs\\Python\\Python311\\Lib\\site-packages\\sklearn\\metrics\\_classification.py:1344: UndefinedMetricWarning: Precision and F-score are ill-defined and being set to 0.0 in samples with no predicted labels. Use `zero_division` parameter to control this behavior.\n",
            "  _warn_prf(average, modifier, msg_start, len(result))\n"
          ]
        }
      ],
      "source": [
        "# Evaluate the performance\n",
        "print(\"Classification Report:\")\n",
        "print(classification_report(y_test, y_pred_word2vec_nb))"
      ]
    },
    {
      "cell_type": "code",
      "execution_count": 71,
      "metadata": {},
      "outputs": [
        {
          "data": {
            "text/plain": [
              "['NaiveBase_Word2Vec.joblib']"
            ]
          },
          "execution_count": 71,
          "metadata": {},
          "output_type": "execute_result"
        }
      ],
      "source": [
        "from joblib import dump\n",
        "\n",
        "model_path = 'NaiveBase_Word2Vec.joblib'  # Specify the file name as \"NaiveBase_Word2Vec.joblib\"\n",
        "dump(grid_search_nb_word2vec, model_path)"
      ]
    },
    {
      "cell_type": "code",
      "execution_count": null,
      "metadata": {
        "id": "A8-WpLTfc-Dz"
      },
      "outputs": [],
      "source": []
    }
  ],
  "metadata": {
    "colab": {
      "provenance": []
    },
    "kernelspec": {
      "display_name": "Python 3",
      "name": "python3"
    },
    "language_info": {
      "codemirror_mode": {
        "name": "ipython",
        "version": 3
      },
      "file_extension": ".py",
      "mimetype": "text/x-python",
      "name": "python",
      "nbconvert_exporter": "python",
      "pygments_lexer": "ipython3",
      "version": "3.11.2"
    }
  },
  "nbformat": 4,
  "nbformat_minor": 0
}
